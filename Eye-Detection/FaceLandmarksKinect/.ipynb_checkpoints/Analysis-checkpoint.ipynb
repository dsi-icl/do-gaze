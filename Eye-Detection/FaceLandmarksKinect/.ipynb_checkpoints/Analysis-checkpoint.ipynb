{
 "cells": [
  {
   "cell_type": "code",
   "execution_count": 1,
   "metadata": {},
   "outputs": [],
   "source": [
    "import pandas as pd\n",
    "import numpy as np\n",
    "import matplotlib.pyplot as plt\n",
    "import math\n",
    "import glob"
   ]
  },
  {
   "cell_type": "code",
   "execution_count": 2,
   "metadata": {},
   "outputs": [],
   "source": [
    "gaze = pd.read_csv('study2', index_col = False)\n",
    "gaze.drop(columns = ['Unnamed: 0'], inplace = True)"
   ]
  },
  {
   "cell_type": "code",
   "execution_count": 3,
   "metadata": {},
   "outputs": [
    {
     "data": {
      "text/html": [
       "<div>\n",
       "<style scoped>\n",
       "    .dataframe tbody tr th:only-of-type {\n",
       "        vertical-align: middle;\n",
       "    }\n",
       "\n",
       "    .dataframe tbody tr th {\n",
       "        vertical-align: top;\n",
       "    }\n",
       "\n",
       "    .dataframe thead th {\n",
       "        text-align: right;\n",
       "    }\n",
       "</style>\n",
       "<table border=\"1\" class=\"dataframe\">\n",
       "  <thead>\n",
       "    <tr style=\"text-align: right;\">\n",
       "      <th></th>\n",
       "      <th>x</th>\n",
       "      <th>y</th>\n",
       "      <th>z</th>\n",
       "      <th>x_k</th>\n",
       "      <th>y_k</th>\n",
       "      <th>z_k</th>\n",
       "    </tr>\n",
       "  </thead>\n",
       "  <tbody>\n",
       "    <tr>\n",
       "      <th>0</th>\n",
       "      <td>1.933451</td>\n",
       "      <td>2.293854</td>\n",
       "      <td>1.097861</td>\n",
       "      <td>2.031292</td>\n",
       "      <td>2.207680</td>\n",
       "      <td>2.998791</td>\n",
       "    </tr>\n",
       "    <tr>\n",
       "      <th>1</th>\n",
       "      <td>2.599037</td>\n",
       "      <td>1.498334</td>\n",
       "      <td>0.131272</td>\n",
       "      <td>2.031631</td>\n",
       "      <td>2.207369</td>\n",
       "      <td>2.998864</td>\n",
       "    </tr>\n",
       "    <tr>\n",
       "      <th>2</th>\n",
       "      <td>-1.389210</td>\n",
       "      <td>2.658965</td>\n",
       "      <td>1.714950</td>\n",
       "      <td>2.035253</td>\n",
       "      <td>2.204030</td>\n",
       "      <td>3.021273</td>\n",
       "    </tr>\n",
       "    <tr>\n",
       "      <th>3</th>\n",
       "      <td>1.740236</td>\n",
       "      <td>2.443681</td>\n",
       "      <td>0.655070</td>\n",
       "      <td>2.033785</td>\n",
       "      <td>2.205384</td>\n",
       "      <td>3.019456</td>\n",
       "    </tr>\n",
       "    <tr>\n",
       "      <th>4</th>\n",
       "      <td>1.398431</td>\n",
       "      <td>2.654127</td>\n",
       "      <td>2.215933</td>\n",
       "      <td>2.032929</td>\n",
       "      <td>2.206173</td>\n",
       "      <td>3.022955</td>\n",
       "    </tr>\n",
       "  </tbody>\n",
       "</table>\n",
       "</div>"
      ],
      "text/plain": [
       "          x         y         z       x_k       y_k       z_k\n",
       "0  1.933451  2.293854  1.097861  2.031292  2.207680  2.998791\n",
       "1  2.599037  1.498334  0.131272  2.031631  2.207369  2.998864\n",
       "2 -1.389210  2.658965  1.714950  2.035253  2.204030  3.021273\n",
       "3  1.740236  2.443681  0.655070  2.033785  2.205384  3.019456\n",
       "4  1.398431  2.654127  2.215933  2.032929  2.206173  3.022955"
      ]
     },
     "execution_count": 3,
     "metadata": {},
     "output_type": "execute_result"
    }
   ],
   "source": [
    "gaze.head()"
   ]
  },
  {
   "cell_type": "code",
   "execution_count": 4,
   "metadata": {},
   "outputs": [],
   "source": [
    "# radius of the observatory\n",
    "r = 3"
   ]
  },
  {
   "cell_type": "code",
   "execution_count": 5,
   "metadata": {},
   "outputs": [],
   "source": [
    "gaze_face_align = gaze[['x', 'y', 'z']]\n",
    "gaze_kinect = gaze[['x_k', 'y_k', 'z_k']]"
   ]
  },
  {
   "cell_type": "code",
   "execution_count": 6,
   "metadata": {},
   "outputs": [
    {
     "name": "stderr",
     "output_type": "stream",
     "text": [
      "C:\\Users\\DSI\\Anaconda3\\lib\\site-packages\\pandas\\core\\indexing.py:362: SettingWithCopyWarning: \n",
      "A value is trying to be set on a copy of a slice from a DataFrame.\n",
      "Try using .loc[row_indexer,col_indexer] = value instead\n",
      "\n",
      "See the caveats in the documentation: http://pandas.pydata.org/pandas-docs/stable/indexing.html#indexing-view-versus-copy\n",
      "  self.obj[key] = _infer_fill_value(value)\n",
      "C:\\Users\\DSI\\Anaconda3\\lib\\site-packages\\pandas\\core\\indexing.py:366: SettingWithCopyWarning: \n",
      "A value is trying to be set on a copy of a slice from a DataFrame\n",
      "\n",
      "See the caveats in the documentation: http://pandas.pydata.org/pandas-docs/stable/indexing.html#indexing-view-versus-copy\n",
      "  self._setitem_with_indexer(new_indexer, value)\n",
      "C:\\Users\\DSI\\Anaconda3\\lib\\site-packages\\pandas\\core\\indexing.py:190: SettingWithCopyWarning: \n",
      "A value is trying to be set on a copy of a slice from a DataFrame\n",
      "\n",
      "See the caveats in the documentation: http://pandas.pydata.org/pandas-docs/stable/indexing.html#indexing-view-versus-copy\n",
      "  self._setitem_with_indexer(indexer, value)\n",
      "C:\\Users\\DSI\\Anaconda3\\lib\\site-packages\\ipykernel_launcher.py:5: SettingWithCopyWarning: \n",
      "A value is trying to be set on a copy of a slice from a DataFrame\n",
      "\n",
      "See the caveats in the documentation: http://pandas.pydata.org/pandas-docs/stable/indexing.html#indexing-view-versus-copy\n",
      "  \"\"\"\n"
     ]
    }
   ],
   "source": [
    "for index,row in gaze_face_align.iterrows():\n",
    "    if gaze_face_align.loc[index, 'y'] > 0:\n",
    "        d = math.sqrt((gaze_face_align.loc[index,'x']-r)**2 + gaze_face_align.loc[index, 'y']**2)\n",
    "        theta = 2*math.asin(d/(2*r))\n",
    "        gaze_face_align.loc[index,'screen_h'] = theta*r\n",
    "    else:\n",
    "        d = -math.sqrt((gaze_face_align.loc[index,'x']-r)**2 + gaze_face_align.loc[index, 'y']**2)\n",
    "        theta = 2*math.asin(d/(2*r))\n",
    "        gaze_face_align.loc[index,'screen_h'] = theta*r"
   ]
  },
  {
   "cell_type": "code",
   "execution_count": 7,
   "metadata": {},
   "outputs": [
    {
     "name": "stderr",
     "output_type": "stream",
     "text": [
      "C:\\Users\\DSI\\Anaconda3\\lib\\site-packages\\ipykernel_launcher.py:5: SettingWithCopyWarning: \n",
      "A value is trying to be set on a copy of a slice from a DataFrame\n",
      "\n",
      "See the caveats in the documentation: http://pandas.pydata.org/pandas-docs/stable/indexing.html#indexing-view-versus-copy\n",
      "  \"\"\"\n"
     ]
    }
   ],
   "source": [
    "for index,row in gaze_kinect.iterrows():\n",
    "    if gaze_kinect.loc[index, 'y_k'] > 0:\n",
    "        d = math.sqrt((gaze_kinect.loc[index,'x_k']-r)**2 + gaze_kinect.loc[index, 'y_k']**2)\n",
    "        theta = 2*math.asin(d/(2*r))\n",
    "        gaze_kinect.loc[index,'screen_h'] = theta*r\n",
    "    else:\n",
    "        d = -math.sqrt((gaze_kinect.loc[index,'x_k']-r)**2 + gaze_kinect.loc[index, 'y_k']**2)\n",
    "        theta = 2*math.asin(d/(2*r))\n",
    "        gaze_kinect.loc[index,'screen_h'] = theta*r"
   ]
  },
  {
   "cell_type": "code",
   "execution_count": 8,
   "metadata": {},
   "outputs": [],
   "source": [
    "outliers = (gaze_face_align['z'] > 5) | (gaze_face_align['z'] < 0)\n",
    "gaze_face_align_cleaned = gaze_face_align[~outliers]\n",
    "\n",
    "outliers_k = (gaze_kinect['z_k'] > 5) | (gaze_kinect['z_k'] < 0)\n",
    "gaze_kinect_cleaned = gaze_kinect[~outliers_k]"
   ]
  },
  {
   "cell_type": "code",
   "execution_count": 9,
   "metadata": {
    "scrolled": true
   },
   "outputs": [
    {
     "data": {
      "text/plain": [
       "<matplotlib.collections.PathCollection at 0x18cf8c90da0>"
      ]
     },
     "execution_count": 9,
     "metadata": {},
     "output_type": "execute_result"
    },
    {
     "data": {
      "image/png": "[encoded data removed]",
      "text/plain": [
       "<Figure size 432x288 with 1 Axes>"
      ]
     },
     "metadata": {
      "needs_background": "light"
     },
     "output_type": "display_data"
    }
   ],
   "source": [
    "gaze_face_align_cleaned.plot.scatter(x='x', y='y', grid = True)\n",
    "plt.scatter(gaze_kinect_cleaned['x_k'], gaze_kinect_cleaned['y_k'], color='red')"
   ]
  },
  {
   "cell_type": "code",
   "execution_count": 10,
   "metadata": {
    "scrolled": true
   },
   "outputs": [
    {
     "data": {
      "text/plain": [
       "<matplotlib.collections.PathCollection at 0x18cf9039c88>"
      ]
     },
     "execution_count": 10,
     "metadata": {},
     "output_type": "execute_result"
    },
    {
     "data": {
      "image/png": "[encoded data removed]",
      "text/plain": [
       "<Figure size 432x288 with 1 Axes>"
      ]
     },
     "metadata": {
      "needs_background": "light"
     },
     "output_type": "display_data"
    }
   ],
   "source": [
    "gaze_face_align_cleaned.plot.scatter(x='screen_h', y='z', grid = True)\n",
    "plt.scatter(gaze_kinect_cleaned['screen_h'], gaze_kinect_cleaned['z_k'], color='red')"
   ]
  },
  {
   "cell_type": "code",
   "execution_count": 11,
   "metadata": {},
   "outputs": [],
   "source": [
    "mean_k = gaze_kinect_cleaned.mean()\n",
    "mean_face_align = gaze_face_align_cleaned.mean()"
   ]
  },
  {
   "cell_type": "code",
   "execution_count": 12,
   "metadata": {},
   "outputs": [
    {
     "data": {
      "text/plain": [
       "x           1.523973\n",
       "y           2.287363\n",
       "z           1.729923\n",
       "screen_h    2.998986\n",
       "dtype: float64"
      ]
     },
     "execution_count": 12,
     "metadata": {},
     "output_type": "execute_result"
    }
   ],
   "source": [
    "mean_face_align"
   ]
  },
  {
   "cell_type": "code",
   "execution_count": 13,
   "metadata": {},
   "outputs": [
    {
     "data": {
      "text/plain": [
       "x_k         2.113949\n",
       "y_k         2.128547\n",
       "z_k         3.288755\n",
       "screen_h    2.366518\n",
       "dtype: float64"
      ]
     },
     "execution_count": 13,
     "metadata": {},
     "output_type": "execute_result"
    }
   ],
   "source": [
    "mean_k"
   ]
  },
  {
   "cell_type": "code",
   "execution_count": 14,
   "metadata": {},
   "outputs": [],
   "source": [
    "real_value = np.array([1.57, 2.55, 1.35])\n",
    "\n",
    "d = math.sqrt((real_value[0] - r)**2 + real_value[1]**2)\n",
    "theta = 2*math.asin(d/(2*r))\n",
    "real_value_zh = theta*r"
   ]
  },
  {
   "cell_type": "code",
   "execution_count": 15,
   "metadata": {},
   "outputs": [
    {
     "data": {
      "text/plain": [
       "array([2.33271816, 1.88637907, 0.2       ])"
      ]
     },
     "execution_count": 15,
     "metadata": {},
     "output_type": "execute_result"
    }
   ],
   "source": [
    "theta = 0.68\n",
    "R = np.array([[math.cos(theta), -math.sin(theta), 0], [math.sin(theta), math.cos(theta), 0], [0,0,1]])\n",
    "v = np.array([3, 0, 0.2])\n",
    "np.dot(R,v)"
   ]
  },
  {
   "cell_type": "code",
   "execution_count": 16,
   "metadata": {},
   "outputs": [
    {
     "data": {
      "text/plain": [
       "array([1.57009785, 2.55632407, 0.2       ])"
      ]
     },
     "execution_count": 16,
     "metadata": {},
     "output_type": "execute_result"
    }
   ],
   "source": [
    "theta = 1.02\n",
    "R = np.array([[math.cos(theta), -math.sin(theta), 0], [math.sin(theta), math.cos(theta), 0], [0,0,1]])\n",
    "v = np.array([3, 0, 0.2])\n",
    "np.dot(R,v)"
   ]
  },
  {
   "cell_type": "code",
   "execution_count": 20,
   "metadata": {},
   "outputs": [
    {
     "data": {
      "text/html": [
       "<div>\n",
       "<style scoped>\n",
       "    .dataframe tbody tr th:only-of-type {\n",
       "        vertical-align: middle;\n",
       "    }\n",
       "\n",
       "    .dataframe tbody tr th {\n",
       "        vertical-align: top;\n",
       "    }\n",
       "\n",
       "    .dataframe thead th {\n",
       "        text-align: right;\n",
       "    }\n",
       "</style>\n",
       "<table border=\"1\" class=\"dataframe\">\n",
       "  <thead>\n",
       "    <tr style=\"text-align: right;\">\n",
       "      <th></th>\n",
       "      <th>x</th>\n",
       "      <th>y</th>\n",
       "      <th>z</th>\n",
       "      <th>screen_h</th>\n",
       "    </tr>\n",
       "  </thead>\n",
       "  <tbody>\n",
       "    <tr>\n",
       "      <th>0</th>\n",
       "      <td>1.570000</td>\n",
       "      <td>2.550000</td>\n",
       "      <td>1.350000</td>\n",
       "      <td>3.053734</td>\n",
       "    </tr>\n",
       "    <tr>\n",
       "      <th>1</th>\n",
       "      <td>2.113949</td>\n",
       "      <td>2.128547</td>\n",
       "      <td>3.288755</td>\n",
       "      <td>2.366518</td>\n",
       "    </tr>\n",
       "    <tr>\n",
       "      <th>2</th>\n",
       "      <td>1.523973</td>\n",
       "      <td>2.287363</td>\n",
       "      <td>1.729923</td>\n",
       "      <td>2.998986</td>\n",
       "    </tr>\n",
       "  </tbody>\n",
       "</table>\n",
       "</div>"
      ],
      "text/plain": [
       "          x         y         z  screen_h\n",
       "0  1.570000  2.550000  1.350000  3.053734\n",
       "1  2.113949  2.128547  3.288755  2.366518\n",
       "2  1.523973  2.287363  1.729923  2.998986"
      ]
     },
     "execution_count": 20,
     "metadata": {},
     "output_type": "execute_result"
    }
   ],
   "source": [
    "data = np.array([[real_value[0], real_value[1], real_value[2], real_value_zh], \\\n",
    "                            [mean_k[0], mean_k[1], mean_k[2], mean_k[3]], \\\n",
    "                            [mean_face_align[0], mean_face_align[1], mean_face_align[2], mean_face_align[3]]])\n",
    "visualisation = pd.DataFrame(data, columns=['x', 'y', 'z', 'screen_h'])\n",
    "visualisation"
   ]
  }
 ],
 "metadata": {
  "kernelspec": {
   "display_name": "Python 3",
   "language": "python",
   "name": "python3"
  },
  "language_info": {
   "codemirror_mode": {
    "name": "ipython",
    "version": 3
   },
   "file_extension": ".py",
   "mimetype": "text/x-python",
   "name": "python",
   "nbconvert_exporter": "python",
   "pygments_lexer": "ipython3",
   "version": "3.7.4"
  }
 },
 "nbformat": 4,
 "nbformat_minor": 2
}
