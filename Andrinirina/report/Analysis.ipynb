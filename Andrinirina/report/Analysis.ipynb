{
 "cells": [
  {
   "cell_type": "code",
   "execution_count": 66,
   "metadata": {},
   "outputs": [],
   "source": [
    "import pandas as pd\n",
    "import numpy as np\n",
    "import matplotlib.pyplot as plt\n",
    "import glob"
   ]
  },
  {
   "cell_type": "code",
   "execution_count": 67,
   "metadata": {},
   "outputs": [],
   "source": [
    "experiment_raw = pd.DataFrame([], columns=['x', 'y', 'experiment', 'location'])"
   ]
  },
  {
   "cell_type": "code",
   "execution_count": 68,
   "metadata": {
    "scrolled": true
   },
   "outputs": [],
   "source": [
    "for name in glob.iglob('*.csv'):\n",
    "    data = pd.read_csv(name, index_col=False)[['x', 'y']]\n",
    "    name = name.replace('experiment', '')\n",
    "    name = name.replace('.csv', '')\n",
    "    name = name.replace('_', ',',1)\n",
    "    name = name.split(',')\n",
    "    for _,row in data.iterrows():\n",
    "        experiment_raw = experiment_raw.append({'x':row['x'], 'y':row['y'], 'experiment':int(name[0]), 'location':name[1]}, ignore_index=True)"
   ]
  },
  {
   "cell_type": "markdown",
   "metadata": {},
   "source": [
    "**Cleaning the Dataset**"
   ]
  },
  {
   "cell_type": "code",
   "execution_count": 69,
   "metadata": {},
   "outputs": [],
   "source": [
    "experiment = experiment_raw.dropna()"
   ]
  },
  {
   "cell_type": "code",
   "execution_count": 70,
   "metadata": {},
   "outputs": [
    {
     "data": {
      "text/plain": [
       "<matplotlib.axes._subplots.AxesSubplot at 0x1c55db92828>"
      ]
     },
     "execution_count": 70,
     "metadata": {},
     "output_type": "execute_result"
    },
    {
     "data": {
      "image/png": "[encoded data removed]",
      "text/plain": [
       "<Figure size 432x288 with 2 Axes>"
      ]
     },
     "metadata": {
      "needs_background": "light"
     },
     "output_type": "display_data"
    }
   ],
   "source": [
    "experiment.plot.scatter(x='x', y='y', c='experiment',colormap='viridis')"
   ]
  },
  {
   "cell_type": "markdown",
   "metadata": {},
   "source": [
    "A few outliers are obstructing our observation.  \n",
    "A threshold consisting on a 1.5m\\*1.5m square is applied to keep the data exploitable."
   ]
  },
  {
   "cell_type": "code",
   "execution_count": 110,
   "metadata": {},
   "outputs": [
    {
     "data": {
      "text/html": [
       "<div>\n",
       "<style scoped>\n",
       "    .dataframe tbody tr th:only-of-type {\n",
       "        vertical-align: middle;\n",
       "    }\n",
       "\n",
       "    .dataframe tbody tr th {\n",
       "        vertical-align: top;\n",
       "    }\n",
       "\n",
       "    .dataframe thead th {\n",
       "        text-align: right;\n",
       "    }\n",
       "</style>\n",
       "<table border=\"1\" class=\"dataframe\">\n",
       "  <thead>\n",
       "    <tr style=\"text-align: right;\">\n",
       "      <th></th>\n",
       "      <th>x</th>\n",
       "      <th>y</th>\n",
       "      <th>experiment</th>\n",
       "      <th>location</th>\n",
       "    </tr>\n",
       "  </thead>\n",
       "  <tbody>\n",
       "    <tr>\n",
       "      <th>52</th>\n",
       "      <td>1.522943</td>\n",
       "      <td>-0.057461</td>\n",
       "      <td>0</td>\n",
       "      <td>low_right</td>\n",
       "    </tr>\n",
       "    <tr>\n",
       "      <th>106</th>\n",
       "      <td>1.528242</td>\n",
       "      <td>-0.190517</td>\n",
       "      <td>1</td>\n",
       "      <td>low_right</td>\n",
       "    </tr>\n",
       "    <tr>\n",
       "      <th>203</th>\n",
       "      <td>-1.606565</td>\n",
       "      <td>-0.350554</td>\n",
       "      <td>2</td>\n",
       "      <td>low_left</td>\n",
       "    </tr>\n",
       "    <tr>\n",
       "      <th>205</th>\n",
       "      <td>-1.528964</td>\n",
       "      <td>0.101548</td>\n",
       "      <td>2</td>\n",
       "      <td>low_left</td>\n",
       "    </tr>\n",
       "    <tr>\n",
       "      <th>206</th>\n",
       "      <td>-1.867645</td>\n",
       "      <td>-0.048745</td>\n",
       "      <td>2</td>\n",
       "      <td>low_left</td>\n",
       "    </tr>\n",
       "    <tr>\n",
       "      <th>207</th>\n",
       "      <td>-1.512740</td>\n",
       "      <td>-0.126131</td>\n",
       "      <td>2</td>\n",
       "      <td>low_left</td>\n",
       "    </tr>\n",
       "    <tr>\n",
       "      <th>209</th>\n",
       "      <td>-1.509784</td>\n",
       "      <td>-0.011286</td>\n",
       "      <td>2</td>\n",
       "      <td>low_left</td>\n",
       "    </tr>\n",
       "    <tr>\n",
       "      <th>210</th>\n",
       "      <td>-1.763910</td>\n",
       "      <td>-0.000015</td>\n",
       "      <td>2</td>\n",
       "      <td>low_left</td>\n",
       "    </tr>\n",
       "    <tr>\n",
       "      <th>212</th>\n",
       "      <td>-1.587911</td>\n",
       "      <td>0.040731</td>\n",
       "      <td>2</td>\n",
       "      <td>low_left</td>\n",
       "    </tr>\n",
       "    <tr>\n",
       "      <th>216</th>\n",
       "      <td>-1.527039</td>\n",
       "      <td>-0.479445</td>\n",
       "      <td>2</td>\n",
       "      <td>low_left</td>\n",
       "    </tr>\n",
       "    <tr>\n",
       "      <th>218</th>\n",
       "      <td>-1.591510</td>\n",
       "      <td>-0.056813</td>\n",
       "      <td>2</td>\n",
       "      <td>low_left</td>\n",
       "    </tr>\n",
       "    <tr>\n",
       "      <th>219</th>\n",
       "      <td>-1.853849</td>\n",
       "      <td>-0.223979</td>\n",
       "      <td>2</td>\n",
       "      <td>low_left</td>\n",
       "    </tr>\n",
       "    <tr>\n",
       "      <th>221</th>\n",
       "      <td>-1.530465</td>\n",
       "      <td>-0.354399</td>\n",
       "      <td>2</td>\n",
       "      <td>low_left</td>\n",
       "    </tr>\n",
       "    <tr>\n",
       "      <th>222</th>\n",
       "      <td>-1.504825</td>\n",
       "      <td>-0.087621</td>\n",
       "      <td>2</td>\n",
       "      <td>low_left</td>\n",
       "    </tr>\n",
       "    <tr>\n",
       "      <th>227</th>\n",
       "      <td>-1.519923</td>\n",
       "      <td>-0.058584</td>\n",
       "      <td>2</td>\n",
       "      <td>low_left</td>\n",
       "    </tr>\n",
       "    <tr>\n",
       "      <th>229</th>\n",
       "      <td>1.833244</td>\n",
       "      <td>-0.532172</td>\n",
       "      <td>2</td>\n",
       "      <td>low_right</td>\n",
       "    </tr>\n",
       "    <tr>\n",
       "      <th>230</th>\n",
       "      <td>1.877604</td>\n",
       "      <td>-0.315652</td>\n",
       "      <td>2</td>\n",
       "      <td>low_right</td>\n",
       "    </tr>\n",
       "    <tr>\n",
       "      <th>232</th>\n",
       "      <td>2.103407</td>\n",
       "      <td>-0.331737</td>\n",
       "      <td>2</td>\n",
       "      <td>low_right</td>\n",
       "    </tr>\n",
       "    <tr>\n",
       "      <th>233</th>\n",
       "      <td>18.797798</td>\n",
       "      <td>0.739536</td>\n",
       "      <td>2</td>\n",
       "      <td>low_right</td>\n",
       "    </tr>\n",
       "    <tr>\n",
       "      <th>234</th>\n",
       "      <td>2.282089</td>\n",
       "      <td>-0.397891</td>\n",
       "      <td>2</td>\n",
       "      <td>low_right</td>\n",
       "    </tr>\n",
       "    <tr>\n",
       "      <th>241</th>\n",
       "      <td>24.874843</td>\n",
       "      <td>-2.202103</td>\n",
       "      <td>2</td>\n",
       "      <td>low_right</td>\n",
       "    </tr>\n",
       "    <tr>\n",
       "      <th>244</th>\n",
       "      <td>1.945440</td>\n",
       "      <td>-0.155622</td>\n",
       "      <td>2</td>\n",
       "      <td>low_right</td>\n",
       "    </tr>\n",
       "    <tr>\n",
       "      <th>249</th>\n",
       "      <td>2.008638</td>\n",
       "      <td>-0.310881</td>\n",
       "      <td>2</td>\n",
       "      <td>low_right</td>\n",
       "    </tr>\n",
       "    <tr>\n",
       "      <th>250</th>\n",
       "      <td>1.510642</td>\n",
       "      <td>-0.407767</td>\n",
       "      <td>2</td>\n",
       "      <td>low_right</td>\n",
       "    </tr>\n",
       "    <tr>\n",
       "      <th>252</th>\n",
       "      <td>2.247472</td>\n",
       "      <td>-0.315473</td>\n",
       "      <td>2</td>\n",
       "      <td>low_right</td>\n",
       "    </tr>\n",
       "    <tr>\n",
       "      <th>254</th>\n",
       "      <td>1.698667</td>\n",
       "      <td>-0.482427</td>\n",
       "      <td>2</td>\n",
       "      <td>low_right</td>\n",
       "    </tr>\n",
       "    <tr>\n",
       "      <th>257</th>\n",
       "      <td>1.689491</td>\n",
       "      <td>-0.453707</td>\n",
       "      <td>2</td>\n",
       "      <td>low_right</td>\n",
       "    </tr>\n",
       "    <tr>\n",
       "      <th>258</th>\n",
       "      <td>1.672215</td>\n",
       "      <td>-0.468943</td>\n",
       "      <td>2</td>\n",
       "      <td>low_right</td>\n",
       "    </tr>\n",
       "    <tr>\n",
       "      <th>259</th>\n",
       "      <td>1.984332</td>\n",
       "      <td>-0.470441</td>\n",
       "      <td>2</td>\n",
       "      <td>low_right</td>\n",
       "    </tr>\n",
       "    <tr>\n",
       "      <th>261</th>\n",
       "      <td>1.720119</td>\n",
       "      <td>0.050012</td>\n",
       "      <td>2</td>\n",
       "      <td>low_right</td>\n",
       "    </tr>\n",
       "    <tr>\n",
       "      <th>263</th>\n",
       "      <td>1.855698</td>\n",
       "      <td>-0.016954</td>\n",
       "      <td>2</td>\n",
       "      <td>low_right</td>\n",
       "    </tr>\n",
       "  </tbody>\n",
       "</table>\n",
       "</div>"
      ],
      "text/plain": [
       "             x         y experiment   location\n",
       "52    1.522943 -0.057461          0  low_right\n",
       "106   1.528242 -0.190517          1  low_right\n",
       "203  -1.606565 -0.350554          2   low_left\n",
       "205  -1.528964  0.101548          2   low_left\n",
       "206  -1.867645 -0.048745          2   low_left\n",
       "207  -1.512740 -0.126131          2   low_left\n",
       "209  -1.509784 -0.011286          2   low_left\n",
       "210  -1.763910 -0.000015          2   low_left\n",
       "212  -1.587911  0.040731          2   low_left\n",
       "216  -1.527039 -0.479445          2   low_left\n",
       "218  -1.591510 -0.056813          2   low_left\n",
       "219  -1.853849 -0.223979          2   low_left\n",
       "221  -1.530465 -0.354399          2   low_left\n",
       "222  -1.504825 -0.087621          2   low_left\n",
       "227  -1.519923 -0.058584          2   low_left\n",
       "229   1.833244 -0.532172          2  low_right\n",
       "230   1.877604 -0.315652          2  low_right\n",
       "232   2.103407 -0.331737          2  low_right\n",
       "233  18.797798  0.739536          2  low_right\n",
       "234   2.282089 -0.397891          2  low_right\n",
       "241  24.874843 -2.202103          2  low_right\n",
       "244   1.945440 -0.155622          2  low_right\n",
       "249   2.008638 -0.310881          2  low_right\n",
       "250   1.510642 -0.407767          2  low_right\n",
       "252   2.247472 -0.315473          2  low_right\n",
       "254   1.698667 -0.482427          2  low_right\n",
       "257   1.689491 -0.453707          2  low_right\n",
       "258   1.672215 -0.468943          2  low_right\n",
       "259   1.984332 -0.470441          2  low_right\n",
       "261   1.720119  0.050012          2  low_right\n",
       "263   1.855698 -0.016954          2  low_right"
      ]
     },
     "execution_count": 110,
     "metadata": {},
     "output_type": "execute_result"
    }
   ],
   "source": [
    "outliers = (experiment['x'] > 1.5) | (experiment['x'] < -1.5) | (experiment['y'] > 1.5) | (experiment['y'] < -1.5)\n",
    "experiment[outliers]"
   ]
  },
  {
   "cell_type": "markdown",
   "metadata": {},
   "source": [
    "We notice that almost all the outliers are captured during the experiment number 2. It is logical, according to the fact that all values are registered and there is no process to smoothen the errors."
   ]
  },
  {
   "cell_type": "code",
   "execution_count": 93,
   "metadata": {},
   "outputs": [],
   "source": [
    "experiment_cleaned = experiment[~outliers]"
   ]
  },
  {
   "cell_type": "code",
   "execution_count": 130,
   "metadata": {},
   "outputs": [
    {
     "data": {
      "text/html": [
       "<div>\n",
       "<style scoped>\n",
       "    .dataframe tbody tr th:only-of-type {\n",
       "        vertical-align: middle;\n",
       "    }\n",
       "\n",
       "    .dataframe tbody tr th {\n",
       "        vertical-align: top;\n",
       "    }\n",
       "\n",
       "    .dataframe thead th {\n",
       "        text-align: right;\n",
       "    }\n",
       "</style>\n",
       "<table border=\"1\" class=\"dataframe\">\n",
       "  <thead>\n",
       "    <tr style=\"text-align: right;\">\n",
       "      <th></th>\n",
       "      <th>x</th>\n",
       "      <th>y</th>\n",
       "    </tr>\n",
       "  </thead>\n",
       "  <tbody>\n",
       "    <tr>\n",
       "      <th>high_left</th>\n",
       "      <td>-1.105</td>\n",
       "      <td>1.266</td>\n",
       "    </tr>\n",
       "    <tr>\n",
       "      <th>high_right</th>\n",
       "      <td>1.105</td>\n",
       "      <td>1.266</td>\n",
       "    </tr>\n",
       "    <tr>\n",
       "      <th>low_left</th>\n",
       "      <td>-1.105</td>\n",
       "      <td>0.000</td>\n",
       "    </tr>\n",
       "    <tr>\n",
       "      <th>low_right</th>\n",
       "      <td>1.105</td>\n",
       "      <td>0.000</td>\n",
       "    </tr>\n",
       "    <tr>\n",
       "      <th>origin</th>\n",
       "      <td>0.000</td>\n",
       "      <td>0.000</td>\n",
       "    </tr>\n",
       "  </tbody>\n",
       "</table>\n",
       "</div>"
      ],
      "text/plain": [
       "                x      y\n",
       "high_left  -1.105  1.266\n",
       "high_right  1.105  1.266\n",
       "low_left   -1.105  0.000\n",
       "low_right   1.105  0.000\n",
       "origin      0.000  0.000"
      ]
     },
     "execution_count": 130,
     "metadata": {},
     "output_type": "execute_result"
    }
   ],
   "source": [
    "real_values = pd.DataFrame([[-1.105,1.266], [1.105,1.266], [-1.105,0], [1.105,0],[0,0]], index=['high_left', 'high_right',\\\n",
    "                                                                                               'low_left', 'low_right', 'origin'],\\\n",
    "                           columns=['x', 'y'])\n",
    "real_values"
   ]
  },
  {
   "cell_type": "code",
   "execution_count": 131,
   "metadata": {},
   "outputs": [
    {
     "data": {
      "text/plain": [
       "<matplotlib.collections.PathCollection at 0x1c560e68fd0>"
      ]
     },
     "execution_count": 131,
     "metadata": {},
     "output_type": "execute_result"
    },
    {
     "data": {
      "image/png": "[encoded data removed]",
      "text/plain": [
       "<Figure size 432x288 with 2 Axes>"
      ]
     },
     "metadata": {
      "needs_background": "light"
     },
     "output_type": "display_data"
    }
   ],
   "source": [
    "experiment_cleaned.plot.scatter(x='x', y='y', c='experiment',colormap='viridis', grid=True)\n",
    "plt.scatter(real_values['x'], real_values['y'], color='red')"
   ]
  },
  {
   "cell_type": "markdown",
   "metadata": {},
   "source": [
    "### Difference between real value and mean"
   ]
  },
  {
   "cell_type": "code",
   "execution_count": 120,
   "metadata": {},
   "outputs": [],
   "source": [
    "# Experiment 0\n",
    "mean_0 = experiment_cleaned[experiment_cleaned['experiment'] == 0].groupby('location').mean()\n",
    "\n",
    "# Experiment 1\n",
    "mean_1 = experiment_cleaned[experiment_cleaned['experiment'] == 1].groupby('location').mean()\n",
    "\n",
    "# Experiment 2\n",
    "mean_2 = experiment_cleaned[experiment_cleaned['experiment'] == 2].groupby('location').mean()"
   ]
  },
  {
   "cell_type": "code",
   "execution_count": 133,
   "metadata": {},
   "outputs": [],
   "source": [
    "diff_mean_0 = mean_0 - real_values\n",
    "diff_mean_1 = mean_1 - real_values\n",
    "diff_mean_2 = mean_2 - real_values"
   ]
  },
  {
   "cell_type": "code",
   "execution_count": 146,
   "metadata": {},
   "outputs": [
    {
     "data": {
      "text/plain": [
       "<matplotlib.axes._subplots.AxesSubplot at 0x1c5613fa438>"
      ]
     },
     "execution_count": 146,
     "metadata": {},
     "output_type": "execute_result"
    },
    {
     "data": {
      "image/png": "[encoded data removed]",
      "text/plain": [
       "<Figure size 432x288 with 1 Axes>"
      ]
     },
     "metadata": {
      "needs_background": "light"
     },
     "output_type": "display_data"
    }
   ],
   "source": [
    "ax0 = diff_mean_0.plot.scatter(x='x', y='y', c='b', grid=True)\n",
    "diff_mean_1.plot.scatter(x='x', y='y', c='g', ax=ax0)\n",
    "diff_mean_2.plot.scatter(x='x', y='y', c='r', ax=ax0)"
   ]
  },
  {
   "cell_type": "markdown",
   "metadata": {},
   "source": [
    "**Mesure of dispersion for each condition**"
   ]
  },
  {
   "cell_type": "code",
   "execution_count": null,
   "metadata": {},
   "outputs": [],
   "source": []
  }
 ],
 "metadata": {
  "kernelspec": {
   "display_name": "Python 3",
   "language": "python",
   "name": "python3"
  },
  "language_info": {
   "codemirror_mode": {
    "name": "ipython",
    "version": 3
   },
   "file_extension": ".py",
   "mimetype": "text/x-python",
   "name": "python",
   "nbconvert_exporter": "python",
   "pygments_lexer": "ipython3",
   "version": "3.7.3"
  }
 },
 "nbformat": 4,
 "nbformat_minor": 2
}
